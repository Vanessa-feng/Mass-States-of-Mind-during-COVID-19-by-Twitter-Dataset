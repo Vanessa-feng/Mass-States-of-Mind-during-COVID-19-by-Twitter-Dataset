{
 "cells": [
  {
   "cell_type": "code",
   "execution_count": 1,
   "metadata": {},
   "outputs": [],
   "source": [
    "import os\n",
    "import glob\n",
    "import pandas as pd\n",
    "import csv"
   ]
  },
  {
   "cell_type": "code",
   "execution_count": 2,
   "metadata": {},
   "outputs": [],
   "source": [
    "os.chdir(\"../data/\")\n",
    "\n",
    "#  Use glob to match the pattern ‘csv’\n",
    "dir1 = 'Summary_Details/202*/202*.'\n",
    "dir2 = 'Summary_Hashtag/202*/202*.'\n",
    "dir3 = 'Summary_Sentiment/202*/202*.'\n",
    "file_type = 'csv'\n",
    "all_summ = [i for i in glob.glob(dir1 + file_type)]\n",
    "all_hash = [i for i in glob.glob(dir2 + file_type)]\n",
    "all_sent = [i for i in glob.glob(dir3 + file_type)]\n",
    "all_hash[0]\n",
    "\n",
    "## define the file scope\n",
    "files = all_summ\n",
    "\n",
    "## define start date\n",
    "startTime = '2020-01-01 00:00:00'\n",
    "endTime = '2020-01-31 00:00:00'\n",
    "\n",
    "## define start and end time\n",
    "startTime = pd.to_datetime(startTime)\n",
    "endTime = pd.to_datetime(endTime)"
   ]
  },
  {
   "cell_type": "code",
   "execution_count": 23,
   "metadata": {},
   "outputs": [
    {
     "name": "stderr",
     "output_type": "stream",
     "text": [
      "/rhome/xfeng044/bigdata/.conda/envs/stat209/lib/python3.7/site-packages/IPython/core/interactiveshell.py:3357: DtypeWarning: Columns (6) have mixed types.Specify dtype option on import or set low_memory=False.\n",
      "  if (await self.run_code(code, result,  async_=asy)):\n"
     ]
    },
    {
     "name": "stdout",
     "output_type": "stream",
     "text": [
      "Have write  2020-01-01 00:00:00\n",
      "Have write  2020-02-01 00:00:00\n",
      "Have write  2020-03-01 00:00:00\n",
      "Have write  2020-04-01 00:00:00\n",
      "Have write  2020-05-01 00:00:00\n",
      "Have write  2020-06-01 00:00:00\n",
      "Have write  2020-07-01 00:00:00\n",
      "Have write  2020-08-01 00:00:00\n",
      "Have write  2020-09-01 00:00:00\n",
      "Have write  2020-10-01 00:00:00\n",
      "Have write  2020-11-01 00:00:00\n",
      "Have write  2020-12-01 00:00:00\n",
      "Have write  2021-01-01 00:00:00\n",
      "Have write  2021-03-01 00:00:00\n",
      "Have write  2021-04-01 00:00:00\n"
     ]
    }
   ],
   "source": [
    "####-----------------------FOR Summary Geo--------------#######\n",
    "# pd.merge(product,customer,on='Product_ID')\n",
    "## conbine file in certain interval\n",
    "\n",
    "def get_ratio(df, year, month):\n",
    "        d = {}\n",
    "        po_cnt = df[df['Sentiment_Label'] == 'positive'].shape[0]\n",
    "        ne_cnt = df[df['Sentiment_Label'] == 'negative'].shape[0]\n",
    "        total_cnt = float(df.shape[0])\n",
    "        d['ratio'] = (po_cnt-ne_cnt)/total_cnt\n",
    "        d['total'] = total_cnt\n",
    "        d['year'] = year\n",
    "        d['month'] = month\n",
    "        return pd.Series(d, index=['ratio','total','year','month'])\n",
    "    \n",
    "def write_res(files, start, end):\n",
    "    startTime = pd.to_datetime(start)\n",
    "    endTime = pd.to_datetime(end)\n",
    "    \n",
    "    res = []\n",
    "    for x in files:\n",
    "        temp = '_'.join(x.split('/')[2].split('_',4)[:-1])                    \n",
    "        date = pd.to_datetime(temp,  format='%Y_%m_%d_%H')\n",
    "\n",
    "\n",
    "        if date >= startTime and date <= endTime:\n",
    "            summ = pd.read_csv(x,encoding= 'unicode_escape')\n",
    "            f = \"Summary_Sentiment/\" + temp.split('_')[0] + \"_\" + temp.split('_')[1] + \"/\" + temp + \"_Summary_Sentiment.csv\"\n",
    "            if os.path.exists(f):\n",
    "                sent = pd.read_csv(f, encoding=\"unicode_escape\")\n",
    "    #         hashtag = pd.read_csv(\"Summary_Hashtag/2020_\" + temp.split('_')[1] + \"/\" +\n",
    "    #                            temp + \"_Summary_Hashtag.csv\", encoding=\"unicode_escape\")\n",
    "            geo = summ[summ['Country'].notnull()]\n",
    "\n",
    "            if not geo.empty:\n",
    "                temp = pd.merge(geo[['Tweet_ID','Language','Country']], sent[['Tweet_ID','Sentiment_Label']], how='inner', on='Tweet_ID')\n",
    "                temp['year'] = date.year\n",
    "                temp['month'] = date.month\n",
    "                temp['day'] = date.day\n",
    "                res.append(temp)\n",
    "\n",
    "\n",
    "    res = pd.concat(res, ignore_index=True)\n",
    "    \n",
    "    #export combined file to csv\n",
    "    res.to_csv('combined_res_from_{}_to_{}.csv'.format(startTime.date(),endTime.date()), \n",
    "                        index=False, encoding=\"utf-8\",errors='ignore')\n",
    "\n",
    "    \n",
    "\n",
    "    s1 = res[['Country', 'Sentiment_Label', 'Tweet_ID', 'year', 'month']]\n",
    "    s1 = s1.groupby(['Country']).apply(lambda x: get_ratio(x, startTime.year, startTime.month)).reset_index()\n",
    "    s1['year'] = s1['year'].astype(int)\n",
    "    s1['month'] = s1['month'].astype(int)\n",
    "    \n",
    "#     country = pd.read_csv(\"country_codes.csv\")[['code','area','long','lat']]\n",
    "#     comb = s1.merge(country, how='left', left_on='Country', right_on=\"code\").drop(['code'], axis=1)\n",
    "    s1.to_csv('combined_res_from_{}_to_{}.csv'.format(startTime.date(),endTime.date()), \n",
    "                        index=False, encoding=\"utf-8\",errors='ignore')\n",
    "    print(\"Have write \", start)\n",
    "\n",
    "Time = [('2020-01-01 00:00:00','2020-01-31 00:00:00'), ('2020-02-01 00:00:00','2020-02-29 00:00:00'),\n",
    "       ('2020-03-01 00:00:00','2020-03-31 00:00:00'), ('2020-04-01 00:00:00','2020-04-30 00:00:00'),\n",
    "       ('2020-05-01 00:00:00','2020-05-29 00:00:00'), ('2020-06-01 00:00:00','2020-06-30 00:00:00'),\n",
    "       ('2020-07-01 00:00:00','2020-07-31 00:00:00'), ('2020-08-01 00:00:00','2020-08-31 00:00:00'),\n",
    "       ('2020-09-01 00:00:00','2020-09-30 00:00:00'), ('2020-10-01 00:00:00','2020-10-31 00:00:00'),\n",
    "       ('2020-11-01 00:00:00','2020-11-30 00:00:00'), ('2020-12-01 00:00:00','2020-12-31 00:00:00'),\n",
    "       ('2021-01-01 00:00:00','2021-01-31 00:00:00'), ('2021-02-01 00:00:00','2021-02-28 00:00:00'),\n",
    "       ('2021-03-01 00:00:00','2021-03-31 00:00:00'), ('2021-04-01 00:00:00','2021-04-30 00:00:00')]\n",
    "\n",
    "for start,end in Time:\n",
    "    write_res(files, start, end)"
   ]
  },
  {
   "cell_type": "code",
   "execution_count": 26,
   "metadata": {},
   "outputs": [],
   "source": [
    "# merge the res_files\n",
    "all_files = glob.glob(os.path.join(\"./\", \"combined_res_from_*.csv\"))\n",
    "df_from_each_file = (pd.read_csv(f, sep=',') for f in all_files)\n",
    "df_merged   = pd.concat(df_from_each_file, ignore_index=True)\n",
    "df_merged.to_csv( \"res_merged.csv\")"
   ]
  }
 ],
 "metadata": {
  "kernelspec": {
   "display_name": "stat209",
   "language": "python",
   "name": "myenv"
  },
  "language_info": {
   "codemirror_mode": {
    "name": "ipython",
    "version": 3
   },
   "file_extension": ".py",
   "mimetype": "text/x-python",
   "name": "python",
   "nbconvert_exporter": "python",
   "pygments_lexer": "ipython3",
   "version": "3.7.10"
  }
 },
 "nbformat": 4,
 "nbformat_minor": 4
}
